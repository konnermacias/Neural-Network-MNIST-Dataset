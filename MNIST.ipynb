{
 "cells": [
  {
   "cell_type": "code",
   "execution_count": 1,
   "metadata": {
    "collapsed": true
   },
   "outputs": [],
   "source": [
    "# 3-layered neural network to learn the MNIST dataset\n",
    "\n",
    "import numpy\n",
    "import scipy.special # for sigmoid function\n",
    "import matplotlib.pyplot\n",
    "%matplotlib inline"
   ]
  },
  {
   "cell_type": "code",
   "execution_count": 2,
   "metadata": {
    "collapsed": true
   },
   "outputs": [],
   "source": [
    "class neuralNetwork:\n",
    "    \n",
    "    def __init__(self, inputNodes, hiddenNodes, outputNodes, learningRate):\n",
    "        self.inodes = inputNodes\n",
    "        self.hnodes = hiddenNodes\n",
    "        self.onodes = outputNodes\n",
    "        \n",
    "        # linking weight matrices between input and hidden nodes, then hidden nodes and output nodes\n",
    "        self.weightInHid = numpy.random.normal(0.0, pow(self.inodes, -0.5), (self.hnodes, self.inodes))\n",
    "        self.weightHidOut = numpy.random.normal(0.0, pow(self.hnodes, -0.5), (self.onodes, self.hnodes))\n",
    "        \n",
    "        # learning rate\n",
    "        self.learnRate = learningRate\n",
    "        \n",
    "        # using sigmoid function as activation function\n",
    "        self.activation_func = lambda x: scipy.special.expit(x)\n",
    "        \n",
    "        pass\n",
    "    \n",
    "    \n",
    "    # training\n",
    "    def train(self, inputs_list, targets_list):\n",
    "        # turning input list into 2D array\n",
    "        inputs = numpy.array(inputs_list, ndmin = 2).T\n",
    "        targets = numpy.array(targets_list, ndmin = 2).T\n",
    "    \n",
    "        #signals into hidden layer\n",
    "        hidden_inputs = numpy.dot(self.weightInHid, inputs)\n",
    "        # signals from hidden layer\n",
    "        hidden_outputs = self.activation_func(hidden_inputs)\n",
    "    \n",
    "        # signals into last output layer\n",
    "        last_inputs = numpy.dot(self.weightHidOut, hidden_outputs)\n",
    "        # signals from last output layer\n",
    "        last_outputs = self.activation_func(last_inputs)\n",
    "    \n",
    "        # output error\n",
    "        output_errors = targets - last_outputs\n",
    "        # hidden layer error\n",
    "        hidden_errors = numpy.dot(self.weightHidOut.T, output_errors)\n",
    "        \n",
    "        # update weights for links between hidden and output layers\n",
    "        self.weightHidOut += self.learnRate * numpy.dot((output_errors * last_outputs * (1.0 - last_outputs)), numpy.transpose(hidden_outputs))\n",
    "    \n",
    "        # now for input and hidden layers\n",
    "        self.weightInHid += self.learnRate * numpy.dot((hidden_errors * hidden_outputs * (1.0 - hidden_outputs)), numpy.transpose(inputs))\n",
    "    \n",
    "        pass\n",
    "    \n",
    "    # query neural network\n",
    "    def query(self, inputs_list):\n",
    "        # turn inputs list into 2d array\n",
    "        inputs = numpy.array(inputs_list, ndmin = 2).T\n",
    "    \n",
    "        # signals into hidden\n",
    "        hidden_inputs = numpy.dot(self.weightInHid, inputs)\n",
    "        # signals from hidden\n",
    "        hidden_outputs = self.activation_func(hidden_inputs)\n",
    "    \n",
    "        # signals into last layer\n",
    "        last_inputs = numpy.dot(self.weightHidOut, hidden_outputs)\n",
    "        # signals from last layer\n",
    "        last_outputs = self.activation_func(last_inputs)\n",
    "    \n",
    "        return last_outputs"
   ]
  },
  {
   "cell_type": "code",
   "execution_count": 3,
   "metadata": {
    "collapsed": true
   },
   "outputs": [],
   "source": [
    "# number of nodes\n",
    "input_nodes = 784\n",
    "hidden_nodes = 200\n",
    "output_nodes = 10\n",
    "\n",
    "# learning rate\n",
    "lr = 0.1\n",
    "\n",
    "# creating instance of neural network\n",
    "n = neuralNetwork(input_nodes, hidden_nodes, output_nodes, lr)"
   ]
  },
  {
   "cell_type": "code",
   "execution_count": 4,
   "metadata": {
    "collapsed": true
   },
   "outputs": [],
   "source": [
    "# load training CSV file\n",
    "train_file = open(\"data/mnist_train.csv\",'r')\n",
    "train_list = train_file.readlines()\n",
    "train_file.close()"
   ]
  },
  {
   "cell_type": "code",
   "execution_count": 5,
   "metadata": {},
   "outputs": [],
   "source": [
    "# train our neural network\n",
    "\n",
    "# epochs = number of times training data set was used\n",
    "epochs = 5\n",
    "\n",
    "for e in range(epochs):\n",
    "    # go through every row in training set\n",
    "    for record in train_list:\n",
    "        all_values = record.split(',')\n",
    "        # scale and shift inputs\n",
    "        inputs = (numpy.asfarray(all_values[1:]) / 255.0 * 0.99) + 0.01\n",
    "        # create target output values\n",
    "        targets = numpy.zeros(output_nodes) + 0.01\n",
    "        # all_values[0] is the target label\n",
    "        targets[int(all_values[0])] = 0.99\n",
    "        n.train(inputs, targets)\n",
    "        pass\n",
    "    pass\n",
    "\n"
   ]
  },
  {
   "cell_type": "code",
   "execution_count": 6,
   "metadata": {
    "collapsed": true
   },
   "outputs": [],
   "source": [
    "test_file = open(\"data/mnist_test.csv\",'r')\n",
    "test_list = test_file.readlines()\n",
    "test_file.close()"
   ]
  },
  {
   "cell_type": "code",
   "execution_count": 7,
   "metadata": {},
   "outputs": [],
   "source": [
    "# test neural network\n",
    "\n",
    "scores = []\n",
    "\n",
    "for record in test_list:\n",
    "    all_values = record.split(',')\n",
    "    # correct answer is the first value\n",
    "    correct_label = int(all_values[0])\n",
    "    # scale and shift the inputs\n",
    "    inputs = (numpy.asfarray(all_values[1:]) / 255.0 * 0.99) + 0.01\n",
    "    # query network\n",
    "    outputs = n.query(inputs)\n",
    "    # index of highest value corresponds to the label\n",
    "    label = numpy.argmax(outputs)\n",
    "    # add right or wrong to list\n",
    "    if (label == correct_label):\n",
    "        scores.append(1)\n",
    "    else:\n",
    "        scores.append(0)\n",
    "        pass\n",
    "    pass\n"
   ]
  },
  {
   "cell_type": "code",
   "execution_count": 8,
   "metadata": {},
   "outputs": [
    {
     "name": "stdout",
     "output_type": "stream",
     "text": [
      "performance =  0.9745\n"
     ]
    }
   ],
   "source": [
    "# calculate performance score\n",
    "scores_array = numpy.asarray(scores)\n",
    "print(\"performance = \", scores_array.sum() / scores_array.size)"
   ]
  }
 ],
 "metadata": {
  "anaconda-cloud": {},
  "kernelspec": {
   "display_name": "Python [conda root]",
   "language": "python",
   "name": "conda-root-py"
  },
  "language_info": {
   "codemirror_mode": {
    "name": "ipython",
    "version": 3
   },
   "file_extension": ".py",
   "mimetype": "text/x-python",
   "name": "python",
   "nbconvert_exporter": "python",
   "pygments_lexer": "ipython3",
   "version": "3.5.2"
  }
 },
 "nbformat": 4,
 "nbformat_minor": 2
}
